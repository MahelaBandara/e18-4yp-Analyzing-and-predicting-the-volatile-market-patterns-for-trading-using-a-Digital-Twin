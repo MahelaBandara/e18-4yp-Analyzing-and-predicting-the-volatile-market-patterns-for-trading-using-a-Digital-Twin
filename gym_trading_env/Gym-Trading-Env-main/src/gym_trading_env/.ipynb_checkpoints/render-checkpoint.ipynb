{
 "cells": [
  {
   "cell_type": "markdown",
   "id": "51dc727f",
   "metadata": {},
   "source": [
    "# **Render[#](https://gym-trading-env.readthedocs.io/en/latest/render.html#render)**\n",
    "\n",
    "**Note**\n",
    "\n",
    "The render runs with `Flask` on localhost as a web app, and the charts are drawn with the `pyecharts` librairy.\n",
    "\n",
    "## **Your first render**\n",
    "\n",
    "For the render not to perturb the training, it needs to be performed in a separate python script. This way you can explore your episode results without disturbing your RL-agent training.\n",
    "\n",
    "In the *running environment script*, you need to save your render logs :\n",
    "\n",
    "`env.unwrapped.save_for_render(dir=\"render_logs\")`"
   ]
  },
  {
   "cell_type": "code",
   "execution_count": null,
   "id": "f31a6953",
   "metadata": {},
   "outputs": [
    {
     "name": "stdout",
     "output_type": "stream",
     "text": [
      " * Serving Flask app 'gym_trading_env.renderer'\n",
      " * Debug mode: off\n"
     ]
    },
    {
     "name": "stderr",
     "output_type": "stream",
     "text": [
      "WARNING: This is a development server. Do not use it in a production deployment. Use a production WSGI server instead.\n",
      " * Running on http://127.0.0.1:5000\n",
      "Press CTRL+C to quit\n",
      "127.0.0.1 - - [10/Feb/2024 23:25:36] \"GET / HTTP/1.1\" 200 -\n",
      "127.0.0.1 - - [10/Feb/2024 23:25:38] \"GET /update_data/BTCUSD_2024-02-10_23-24-44.pkl HTTP/1.1\" 200 -\n",
      "[2024-02-10 23:25:39,474] ERROR in app: Exception on /metrics [GET]\n",
      "Traceback (most recent call last):\n",
      "  File \"/home/ishta/anaconda3/lib/python3.11/site-packages/flask/app.py\", line 1463, in wsgi_app\n",
      "    response = self.full_dispatch_request()\n",
      "               ^^^^^^^^^^^^^^^^^^^^^^^^^^^^\n",
      "  File \"/home/ishta/anaconda3/lib/python3.11/site-packages/flask/app.py\", line 872, in full_dispatch_request\n",
      "    rv = self.handle_user_exception(e)\n",
      "         ^^^^^^^^^^^^^^^^^^^^^^^^^^^^^\n",
      "  File \"/home/ishta/anaconda3/lib/python3.11/site-packages/flask/app.py\", line 870, in full_dispatch_request\n",
      "    rv = self.dispatch_request()\n",
      "         ^^^^^^^^^^^^^^^^^^^^^^^\n",
      "  File \"/home/ishta/anaconda3/lib/python3.11/site-packages/flask/app.py\", line 855, in dispatch_request\n",
      "    return self.ensure_sync(self.view_functions[rule.endpoint])(**view_args)  # type: ignore[no-any-return]\n",
      "           ^^^^^^^^^^^^^^^^^^^^^^^^^^^^^^^^^^^^^^^^^^^^^^^^^^^^^^^^^^^^^^^^^\n",
      "  File \"/home/ishta/anaconda3/lib/python3.11/site-packages/gym_trading_env/renderer.py\", line 62, in get_metrics\n",
      "    self.compute_metrics(self.df)\n",
      "  File \"/home/ishta/anaconda3/lib/python3.11/site-packages/gym_trading_env/renderer.py\", line 43, in compute_metrics\n",
      "    metric[\"value\"] = metric[\"function\"](df)\n",
      "                      ^^^^^^^^^^^^^^^^^^^^^^\n",
      "  File \"/tmp/ipykernel_20244/1848563044.py\", line 12, in <lambda>\n",
      "    function = lambda df : f\"{ ((df['close'].iloc[-1] / df['close'].iloc[0])**(pd.Timedelta(days=365)/(df.index.values[-1] - df.index.values[0]))-1)*100:0.2f}%\"\n",
      "                                                                               ^^\n",
      "NameError: name 'pd' is not defined\n",
      "127.0.0.1 - - [10/Feb/2024 23:25:39] \"GET /metrics HTTP/1.1\" 500 -\n"
     ]
    }
   ],
   "source": [
    "from gym_trading_env.renderer import Renderer\n",
    "renderer = Renderer(render_logs_dir=\"render_logs\")\n",
    "\n",
    "\n",
    "# Add Custom Lines (Simple Moving Average)\n",
    "renderer.add_line( name= \"sma10\", function= lambda df : df[\"close\"].rolling(10).mean(), line_options ={\"width\" : 1, \"color\": \"purple\"})\n",
    "renderer.add_line( name= \"sma20\", function= lambda df : df[\"close\"].rolling(20).mean(), line_options ={\"width\" : 1, \"color\": \"blue\"})\n",
    "\n",
    "# Add Custom Metrics (Annualized metrics)\n",
    "renderer.add_metric(\n",
    "    name = \"Annual Market Return\",\n",
    "    function = lambda df : f\"{ ((df['close'].iloc[-1] / df['close'].iloc[0])**(pd.Timedelta(days=365)/(df.index.values[-1] - df.index.values[0]))-1)*100:0.2f}%\"\n",
    ")\n",
    "renderer.add_metric(\n",
    "        name = \"Annual Portfolio Return\",\n",
    "        function = lambda df : f\"{((df['portfolio_valuation'].iloc[-1] / df['portfolio_valuation'].iloc[0])**(pd.Timedelta(days=365)/(df.index.values[-1] - df.index.values[0]))-1)*100:0.2f}%\"\n",
    ")\n",
    "\n",
    "renderer.run()"
   ]
  },
  {
   "cell_type": "code",
   "execution_count": null,
   "id": "624f8f7c",
   "metadata": {},
   "outputs": [],
   "source": []
  },
  {
   "cell_type": "code",
   "execution_count": null,
   "id": "91a3b610",
   "metadata": {},
   "outputs": [],
   "source": []
  },
  {
   "cell_type": "code",
   "execution_count": null,
   "id": "557f4e1b",
   "metadata": {},
   "outputs": [],
   "source": []
  },
  {
   "cell_type": "code",
   "execution_count": null,
   "id": "dfb25850",
   "metadata": {},
   "outputs": [],
   "source": []
  }
 ],
 "metadata": {
  "kernelspec": {
   "display_name": "Python 3 (ipykernel)",
   "language": "python",
   "name": "python3"
  },
  "language_info": {
   "codemirror_mode": {
    "name": "ipython",
    "version": 3
   },
   "file_extension": ".py",
   "mimetype": "text/x-python",
   "name": "python",
   "nbconvert_exporter": "python",
   "pygments_lexer": "ipython3",
   "version": "3.11.5"
  }
 },
 "nbformat": 4,
 "nbformat_minor": 5
}
