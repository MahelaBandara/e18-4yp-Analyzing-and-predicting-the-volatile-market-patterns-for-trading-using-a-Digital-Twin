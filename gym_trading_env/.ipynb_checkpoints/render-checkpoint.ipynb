{
 "cells": [
  {
   "cell_type": "markdown",
   "id": "51dc727f",
   "metadata": {},
   "source": [
    "# **Render[#](https://gym-trading-env.readthedocs.io/en/latest/render.html#render)**\n",
    "\n",
    "**Note**\n",
    "\n",
    "The render runs with `Flask` on localhost as a web app, and the charts are drawn with the `pyecharts` librairy.\n",
    "\n",
    "## **Your first render**\n",
    "\n",
    "For the render not to perturb the training, it needs to be performed in a separate python script. This way you can explore your episode results without disturbing your RL-agent training.\n",
    "\n",
    "In the *running environment script*, you need to save your render logs :\n",
    "\n",
    "`env.unwrapped.save_for_render(dir=\"render_logs\")`"
   ]
  },
  {
   "cell_type": "code",
   "execution_count": null,
   "id": "f31a6953",
   "metadata": {},
   "outputs": [
    {
     "name": "stdout",
     "output_type": "stream",
     "text": [
      " * Serving Flask app 'gym_trading_env.renderer'\n",
      " * Debug mode: off\n"
     ]
    },
    {
     "name": "stderr",
     "output_type": "stream",
     "text": [
      "WARNING: This is a development server. Do not use it in a production deployment. Use a production WSGI server instead.\n",
      " * Running on http://127.0.0.1:5000\n",
      "Press CTRL+C to quit\n",
      "127.0.0.1 - - [31/Jan/2024 16:22:37] \"GET / HTTP/1.1\" 200 -\n",
      "127.0.0.1 - - [31/Jan/2024 16:22:39] \"GET /update_data/BTCUSD_2024-01-31_15-11-21.pkl HTTP/1.1\" 200 -\n",
      "127.0.0.1 - - [31/Jan/2024 16:22:40] \"GET /metrics HTTP/1.1\" 200 -\n"
     ]
    }
   ],
   "source": [
    "from gym_trading_env.renderer import Renderer\n",
    "import pandas as pd\n",
    "\n",
    "renderer = Renderer(render_logs_dir=\"render_logs\")\n",
    "\n",
    "# Add Custom Lines (Simple Moving Average)\n",
    "renderer.add_line( name= \"sma10\", function= lambda df : df[\"close\"].rolling(10).mean(), line_options ={\"width\" : 1, \"color\": \"purple\"})\n",
    "renderer.add_line( name= \"sma20\", function= lambda df : df[\"close\"].rolling(20).mean(), line_options ={\"width\" : 1, \"color\": \"blue\"})\n",
    "\n",
    "# Add Custom Metrics (Annualized metrics)\n",
    "renderer.add_metric(\n",
    "    name = \"Annual Market Return\",\n",
    "    function = lambda df : f\"{ ((df['close'].iloc[-1] / df['close'].iloc[0])**(pd.Timedelta(days=365)/(df.index.values[-1] - df.index.values[0]))-1)*100:0.2f}%\"\n",
    ")\n",
    "renderer.add_metric(\n",
    "        name = \"Annual Portfolio Return\",\n",
    "        function = lambda df : f\"{((df['portfolio_valuation'].iloc[-1] / df['portfolio_valuation'].iloc[0])**(pd.Timedelta(days=365)/(df.index.values[-1] - df.index.values[0]))-1)*100:0.2f}%\"\n",
    ")\n",
    "\n",
    "renderer.run()"
   ]
  }
 ],
 "metadata": {
  "kernelspec": {
   "display_name": "Python 3 (ipykernel)",
   "language": "python",
   "name": "python3"
  },
  "language_info": {
   "codemirror_mode": {
    "name": "ipython",
    "version": 3
   },
   "file_extension": ".py",
   "mimetype": "text/x-python",
   "name": "python",
   "nbconvert_exporter": "python",
   "pygments_lexer": "ipython3",
   "version": "3.11.5"
  }
 },
 "nbformat": 4,
 "nbformat_minor": 5
}
