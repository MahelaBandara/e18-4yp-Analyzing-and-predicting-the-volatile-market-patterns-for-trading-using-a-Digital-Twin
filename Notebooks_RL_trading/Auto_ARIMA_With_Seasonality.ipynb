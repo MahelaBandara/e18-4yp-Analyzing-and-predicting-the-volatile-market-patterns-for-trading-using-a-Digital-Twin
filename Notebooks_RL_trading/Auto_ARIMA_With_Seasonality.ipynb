{
 "cells": [
  {
   "cell_type": "code",
   "execution_count": 181,
   "id": "74f299f4",
   "metadata": {},
   "outputs": [],
   "source": [
    "import pandas as pd\n",
    "import numpy as np\n",
    "import matplotlib.pyplot as plt\n",
    "from sklearn.metrics import mean_squared_error\n",
    "\n",
    "import os\n",
    "%matplotlib inline\n",
    "from statsmodels.graphics.tsaplots import plot_acf, plot_pacf\n",
    "\n",
    "from statsmodels.tsa import stattools\n",
    "from statsmodels.tsa import seasonal"
   ]
  },
  {
   "cell_type": "code",
   "execution_count": 182,
   "id": "29d8740f",
   "metadata": {},
   "outputs": [],
   "source": [
    "os.chdir('/home/ishta/Analyzing-and-predicting-the-volatile-market-patterns-for-trading/Notebooks_time_series')"
   ]
  },
  {
   "cell_type": "code",
   "execution_count": 183,
   "id": "014a9ac5",
   "metadata": {},
   "outputs": [],
   "source": [
    "data = pd.read_csv('Datasets/deriv.csv')"
   ]
  },
  {
   "cell_type": "code",
   "execution_count": 184,
   "id": "73468b76",
   "metadata": {},
   "outputs": [
    {
     "name": "stdout",
     "output_type": "stream",
     "text": [
      "Column names: Index(['Date', 'Time', 'Volatility 100 (1s) Index'], dtype='object')\n"
     ]
    }
   ],
   "source": [
    "print('Column names:', data.columns)"
   ]
  },
  {
   "cell_type": "code",
   "execution_count": 185,
   "id": "bd761e5a",
   "metadata": {},
   "outputs": [
    {
     "data": {
      "text/html": [
       "<div>\n",
       "<style scoped>\n",
       "    .dataframe tbody tr th:only-of-type {\n",
       "        vertical-align: middle;\n",
       "    }\n",
       "\n",
       "    .dataframe tbody tr th {\n",
       "        vertical-align: top;\n",
       "    }\n",
       "\n",
       "    .dataframe thead th {\n",
       "        text-align: right;\n",
       "    }\n",
       "</style>\n",
       "<table border=\"1\" class=\"dataframe\">\n",
       "  <thead>\n",
       "    <tr style=\"text-align: right;\">\n",
       "      <th></th>\n",
       "      <th>Date</th>\n",
       "      <th>Time</th>\n",
       "      <th>Volatility 100 (1s) Index</th>\n",
       "    </tr>\n",
       "  </thead>\n",
       "  <tbody>\n",
       "    <tr>\n",
       "      <th>0</th>\n",
       "      <td>2024-01-12</td>\n",
       "      <td>19:14:49</td>\n",
       "      <td>1305.37</td>\n",
       "    </tr>\n",
       "    <tr>\n",
       "      <th>1</th>\n",
       "      <td>2024-01-12</td>\n",
       "      <td>19:14:50</td>\n",
       "      <td>1305.58</td>\n",
       "    </tr>\n",
       "    <tr>\n",
       "      <th>2</th>\n",
       "      <td>2024-01-12</td>\n",
       "      <td>19:14:51</td>\n",
       "      <td>1305.64</td>\n",
       "    </tr>\n",
       "    <tr>\n",
       "      <th>3</th>\n",
       "      <td>2024-01-12</td>\n",
       "      <td>19:14:52</td>\n",
       "      <td>1305.84</td>\n",
       "    </tr>\n",
       "    <tr>\n",
       "      <th>4</th>\n",
       "      <td>2024-01-12</td>\n",
       "      <td>19:14:53</td>\n",
       "      <td>1305.85</td>\n",
       "    </tr>\n",
       "    <tr>\n",
       "      <th>...</th>\n",
       "      <td>...</td>\n",
       "      <td>...</td>\n",
       "      <td>...</td>\n",
       "    </tr>\n",
       "    <tr>\n",
       "      <th>95</th>\n",
       "      <td>2024-01-12</td>\n",
       "      <td>19:16:24</td>\n",
       "      <td>1311.23</td>\n",
       "    </tr>\n",
       "    <tr>\n",
       "      <th>96</th>\n",
       "      <td>2024-01-12</td>\n",
       "      <td>19:16:25</td>\n",
       "      <td>1310.84</td>\n",
       "    </tr>\n",
       "    <tr>\n",
       "      <th>97</th>\n",
       "      <td>2024-01-12</td>\n",
       "      <td>19:16:26</td>\n",
       "      <td>1310.44</td>\n",
       "    </tr>\n",
       "    <tr>\n",
       "      <th>98</th>\n",
       "      <td>2024-01-12</td>\n",
       "      <td>19:16:27</td>\n",
       "      <td>1310.45</td>\n",
       "    </tr>\n",
       "    <tr>\n",
       "      <th>99</th>\n",
       "      <td>2024-01-12</td>\n",
       "      <td>19:16:28</td>\n",
       "      <td>1310.48</td>\n",
       "    </tr>\n",
       "  </tbody>\n",
       "</table>\n",
       "<p>100 rows × 3 columns</p>\n",
       "</div>"
      ],
      "text/plain": [
       "          Date      Time  Volatility 100 (1s) Index\n",
       "0   2024-01-12  19:14:49                    1305.37\n",
       "1   2024-01-12  19:14:50                    1305.58\n",
       "2   2024-01-12  19:14:51                    1305.64\n",
       "3   2024-01-12  19:14:52                    1305.84\n",
       "4   2024-01-12  19:14:53                    1305.85\n",
       "..         ...       ...                        ...\n",
       "95  2024-01-12  19:16:24                    1311.23\n",
       "96  2024-01-12  19:16:25                    1310.84\n",
       "97  2024-01-12  19:16:26                    1310.44\n",
       "98  2024-01-12  19:16:27                    1310.45\n",
       "99  2024-01-12  19:16:28                    1310.48\n",
       "\n",
       "[100 rows x 3 columns]"
      ]
     },
     "execution_count": 185,
     "metadata": {},
     "output_type": "execute_result"
    }
   ],
   "source": [
    "data"
   ]
  },
  {
   "cell_type": "code",
   "execution_count": 186,
   "id": "8b01b02a",
   "metadata": {},
   "outputs": [
    {
     "data": {
      "text/html": [
       "<div>\n",
       "<style scoped>\n",
       "    .dataframe tbody tr th:only-of-type {\n",
       "        vertical-align: middle;\n",
       "    }\n",
       "\n",
       "    .dataframe tbody tr th {\n",
       "        vertical-align: top;\n",
       "    }\n",
       "\n",
       "    .dataframe thead th {\n",
       "        text-align: right;\n",
       "    }\n",
       "</style>\n",
       "<table border=\"1\" class=\"dataframe\">\n",
       "  <thead>\n",
       "    <tr style=\"text-align: right;\">\n",
       "      <th></th>\n",
       "      <th>Date</th>\n",
       "      <th>Time</th>\n",
       "      <th>Volatility 100 (1s) Index</th>\n",
       "    </tr>\n",
       "    <tr>\n",
       "      <th>DateTime</th>\n",
       "      <th></th>\n",
       "      <th></th>\n",
       "      <th></th>\n",
       "    </tr>\n",
       "  </thead>\n",
       "  <tbody>\n",
       "    <tr>\n",
       "      <th>2024-01-12 19:14:49</th>\n",
       "      <td>2024-01-12</td>\n",
       "      <td>19:14:49</td>\n",
       "      <td>1305.37</td>\n",
       "    </tr>\n",
       "    <tr>\n",
       "      <th>2024-01-12 19:14:50</th>\n",
       "      <td>2024-01-12</td>\n",
       "      <td>19:14:50</td>\n",
       "      <td>1305.58</td>\n",
       "    </tr>\n",
       "    <tr>\n",
       "      <th>2024-01-12 19:14:51</th>\n",
       "      <td>2024-01-12</td>\n",
       "      <td>19:14:51</td>\n",
       "      <td>1305.64</td>\n",
       "    </tr>\n",
       "    <tr>\n",
       "      <th>2024-01-12 19:14:52</th>\n",
       "      <td>2024-01-12</td>\n",
       "      <td>19:14:52</td>\n",
       "      <td>1305.84</td>\n",
       "    </tr>\n",
       "    <tr>\n",
       "      <th>2024-01-12 19:14:53</th>\n",
       "      <td>2024-01-12</td>\n",
       "      <td>19:14:53</td>\n",
       "      <td>1305.85</td>\n",
       "    </tr>\n",
       "    <tr>\n",
       "      <th>...</th>\n",
       "      <td>...</td>\n",
       "      <td>...</td>\n",
       "      <td>...</td>\n",
       "    </tr>\n",
       "    <tr>\n",
       "      <th>2024-01-12 19:16:24</th>\n",
       "      <td>2024-01-12</td>\n",
       "      <td>19:16:24</td>\n",
       "      <td>1311.23</td>\n",
       "    </tr>\n",
       "    <tr>\n",
       "      <th>2024-01-12 19:16:25</th>\n",
       "      <td>2024-01-12</td>\n",
       "      <td>19:16:25</td>\n",
       "      <td>1310.84</td>\n",
       "    </tr>\n",
       "    <tr>\n",
       "      <th>2024-01-12 19:16:26</th>\n",
       "      <td>2024-01-12</td>\n",
       "      <td>19:16:26</td>\n",
       "      <td>1310.44</td>\n",
       "    </tr>\n",
       "    <tr>\n",
       "      <th>2024-01-12 19:16:27</th>\n",
       "      <td>2024-01-12</td>\n",
       "      <td>19:16:27</td>\n",
       "      <td>1310.45</td>\n",
       "    </tr>\n",
       "    <tr>\n",
       "      <th>2024-01-12 19:16:28</th>\n",
       "      <td>2024-01-12</td>\n",
       "      <td>19:16:28</td>\n",
       "      <td>1310.48</td>\n",
       "    </tr>\n",
       "  </tbody>\n",
       "</table>\n",
       "<p>100 rows × 3 columns</p>\n",
       "</div>"
      ],
      "text/plain": [
       "                           Date      Time  Volatility 100 (1s) Index\n",
       "DateTime                                                            \n",
       "2024-01-12 19:14:49  2024-01-12  19:14:49                    1305.37\n",
       "2024-01-12 19:14:50  2024-01-12  19:14:50                    1305.58\n",
       "2024-01-12 19:14:51  2024-01-12  19:14:51                    1305.64\n",
       "2024-01-12 19:14:52  2024-01-12  19:14:52                    1305.84\n",
       "2024-01-12 19:14:53  2024-01-12  19:14:53                    1305.85\n",
       "...                         ...       ...                        ...\n",
       "2024-01-12 19:16:24  2024-01-12  19:16:24                    1311.23\n",
       "2024-01-12 19:16:25  2024-01-12  19:16:25                    1310.84\n",
       "2024-01-12 19:16:26  2024-01-12  19:16:26                    1310.44\n",
       "2024-01-12 19:16:27  2024-01-12  19:16:27                    1310.45\n",
       "2024-01-12 19:16:28  2024-01-12  19:16:28                    1310.48\n",
       "\n",
       "[100 rows x 3 columns]"
      ]
     },
     "execution_count": 186,
     "metadata": {},
     "output_type": "execute_result"
    }
   ],
   "source": [
    "# Assuming 'Date' and 'Time' columns are in datetime format\n",
    "if 'Date' in data.columns and 'Time' in data.columns:\n",
    "    data['DateTime'] = pd.to_datetime(data['Date'] + ' ' + data['Time'])\n",
    "    data.set_index('DateTime', inplace=True)\n",
    "\n",
    "data"
   ]
  },
  {
   "cell_type": "code",
   "execution_count": 187,
   "id": "ea7eaa2b",
   "metadata": {},
   "outputs": [
    {
     "name": "stdout",
     "output_type": "stream",
     "text": [
      "Column names: Index(['Date', 'Time', 'Volatility 100 (1s) Index'], dtype='object')\n"
     ]
    }
   ],
   "source": [
    "print('Column names:', data.columns)"
   ]
  },
  {
   "cell_type": "code",
   "execution_count": 188,
   "id": "a518f066",
   "metadata": {},
   "outputs": [
    {
     "data": {
      "text/plain": [
       "<Axes: xlabel='DateTime'>"
      ]
     },
     "execution_count": 188,
     "metadata": {},
     "output_type": "execute_result"
    },
    {
     "data": {
      "image/png": "[encoded data removed]",
      "text/plain": [
       "<Figure size 1500x500 with 1 Axes>"
      ]
     },
     "metadata": {},
     "output_type": "display_data"
    }
   ],
   "source": [
    "fig, axarr = plt.subplots(1, sharex=True)\n",
    "fig.set_size_inches(15, 5)\n",
    "\n",
    "data['Volatility 100 (1s) Index'].plot( color='k')"
   ]
  },
  {
   "cell_type": "code",
   "execution_count": 189,
   "id": "5f6b20ce",
   "metadata": {},
   "outputs": [
    {
     "name": "stdout",
     "output_type": "stream",
     "text": [
      "Performing stepwise search to minimize aic\n",
      " ARIMA(0,1,0)(0,0,0)[0] intercept   : AIC=4.832, Time=0.04 sec\n",
      " ARIMA(1,1,0)(0,0,0)[0] intercept   : AIC=6.404, Time=0.03 sec\n",
      " ARIMA(0,1,1)(0,0,0)[0] intercept   : AIC=6.239, Time=0.03 sec\n",
      " ARIMA(0,1,0)(0,0,0)[0]             : AIC=7.201, Time=0.01 sec\n",
      " ARIMA(1,1,1)(0,0,0)[0] intercept   : AIC=6.823, Time=0.08 sec\n",
      "\n",
      "Best model:  ARIMA(0,1,0)(0,0,0)[0] intercept\n",
      "Total fit time: 0.193 seconds\n",
      "                               SARIMAX Results                                \n",
      "==============================================================================\n",
      "Dep. Variable:                      y   No. Observations:                  100\n",
      "Model:               SARIMAX(0, 1, 0)   Log Likelihood                  -0.416\n",
      "Date:                Fri, 12 Jan 2024   AIC                              4.832\n",
      "Time:                        19:24:22   BIC                             10.022\n",
      "Sample:                    01-12-2024   HQIC                             6.932\n",
      "                         - 01-12-2024                                         \n",
      "Covariance Type:                  opg                                         \n",
      "==============================================================================\n",
      "                 coef    std err          z      P>|z|      [0.025      0.975]\n",
      "------------------------------------------------------------------------------\n",
      "intercept      0.0516      0.024      2.114      0.035       0.004       0.099\n",
      "sigma2         0.0590      0.009      6.438      0.000       0.041       0.077\n",
      "===================================================================================\n",
      "Ljung-Box (L1) (Q):                   0.44   Jarque-Bera (JB):                 0.44\n",
      "Prob(Q):                              0.51   Prob(JB):                         0.80\n",
      "Heteroskedasticity (H):               1.95   Skew:                            -0.01\n",
      "Prob(H) (two-sided):                  0.06   Kurtosis:                         2.67\n",
      "===================================================================================\n",
      "\n",
      "Warnings:\n",
      "[1] Covariance matrix calculated using the outer product of gradients (complex-step).\n"
     ]
    }
   ],
   "source": [
    "from statsmodels.tsa.arima.model import ARIMA\n",
    "import pmdarima as pm\n",
    "\n",
    "model = pm.auto_arima(data[\"Volatility 100 (1s) Index\"], start_p=0, start_q=0,\n",
    "                      test='adf',       # use adftest to find optimal 'd'\n",
    "                      max_p=10, max_q=10, # maximum p and q\n",
    "                      m=1,              # frequency of series\n",
    "                      d=None,           # let model determine 'd'\n",
    "                      seasonal=False,   # No Seasonality\n",
    "                      start_P=0, \n",
    "                      D=0, \n",
    "                      trace=True,\n",
    "                      error_action='ignore',  \n",
    "                      suppress_warnings=True, \n",
    "                      stepwise=True)\n",
    "\n",
    "print(model.summary())"
   ]
  },
  {
   "cell_type": "code",
   "execution_count": 190,
   "id": "6510bfda",
   "metadata": {},
   "outputs": [
    {
     "data": {
      "text/plain": [
       "2024-01-12 19:16:29    1310.531616\n",
       "2024-01-12 19:16:30    1310.583232\n",
       "2024-01-12 19:16:31    1310.634848\n",
       "2024-01-12 19:16:32    1310.686465\n",
       "2024-01-12 19:16:33    1310.738081\n",
       "Freq: S, dtype: float64"
      ]
     },
     "execution_count": 190,
     "metadata": {},
     "output_type": "execute_result"
    }
   ],
   "source": [
    "forecast_values, confint = model.predict(n_periods=5, return_conf_int=True)\n",
    "\n",
    "prediction"
   ]
  },
  {
   "cell_type": "code",
   "execution_count": null,
   "id": "c3f619e1",
   "metadata": {},
   "outputs": [],
   "source": []
  },
  {
   "cell_type": "code",
   "execution_count": null,
   "id": "44867bca",
   "metadata": {},
   "outputs": [],
   "source": []
  }
 ],
 "metadata": {
  "kernelspec": {
   "display_name": "Python 3 (ipykernel)",
   "language": "python",
   "name": "python3"
  },
  "language_info": {
   "codemirror_mode": {
    "name": "ipython",
    "version": 3
   },
   "file_extension": ".py",
   "mimetype": "text/x-python",
   "name": "python",
   "nbconvert_exporter": "python",
   "pygments_lexer": "ipython3",
   "version": "3.11.5"
  }
 },
 "nbformat": 4,
 "nbformat_minor": 5
}
